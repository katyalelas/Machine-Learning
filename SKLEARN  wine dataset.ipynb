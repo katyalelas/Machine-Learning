{
 "cells": [
  {
   "cell_type": "markdown",
   "metadata": {},
   "source": [
    "SCIKIT LEARN - simple tool for data mining and data analysis\n",
    "build on NumPy, SciPy and matplotlib\n"
   ]
  },
  {
   "cell_type": "markdown",
   "metadata": {},
   "source": [
    "What can we achieve with sklearn? \n",
    "1. Classification / identifying with category an object belongs to (spam detection)\n",
    "2. Regression / perdicting an attribute associated with an object (stock prices predictio, weather prediction)\n",
    "3. CLustering / automatic grouping of similar objects into sets (customer segmentation)\n",
    "4. Model Selection / compating, validating and choosing parameters and models (imporoving model accurancy via parameter tuning, compare different models)\n",
    "5. Dimensionality reduction / reducing the number of random variables to consider (to increase model efficiency, less biased)\n",
    "6. Preprocessing / feature extraction and normalization (transforming input data such as text for use with ML algos) \n"
   ]
  },
  {
   "cell_type": "code",
   "execution_count": 16,
   "metadata": {},
   "outputs": [],
   "source": [
    "import numpy as np\n",
    "import pandas as pd\n",
    "import seaborn as sns\n",
    "import matplotlib.pyplot as plt\n",
    "from sklearn.ensemble import RandomForestClassifier #\n",
    "from sklearn.svm import SVC #support vector classifier\n",
    "from sklearn import svm\n",
    "from sklearn.neural_network import MLPClassifier #\n",
    "# from sklearn.linear_model import SGDClassifier\n",
    "from sklearn.metrics import confusion_matrix, classification_report\n",
    "from sklearn.preprocessing import StandardScaler, LabelEncoder # the most commonly used preprocessing - standardscaler\n",
    "from sklearn.model_selection import train_test_split #for splitting data into different sections\n",
    "%matplotlib inline \n",
    "#only for Jupiter notebook\n",
    "\n"
   ]
  },
  {
   "cell_type": "code",
   "execution_count": 17,
   "metadata": {},
   "outputs": [
    {
     "data": {
      "text/html": [
       "<div>\n",
       "<style scoped>\n",
       "    .dataframe tbody tr th:only-of-type {\n",
       "        vertical-align: middle;\n",
       "    }\n",
       "\n",
       "    .dataframe tbody tr th {\n",
       "        vertical-align: top;\n",
       "    }\n",
       "\n",
       "    .dataframe thead th {\n",
       "        text-align: right;\n",
       "    }\n",
       "</style>\n",
       "<table border=\"1\" class=\"dataframe\">\n",
       "  <thead>\n",
       "    <tr style=\"text-align: right;\">\n",
       "      <th></th>\n",
       "      <th>fixed.acidity</th>\n",
       "      <th>volatile.acidity</th>\n",
       "      <th>citric.acid</th>\n",
       "      <th>residual.sugar</th>\n",
       "      <th>chlorides</th>\n",
       "      <th>free.sulfur.dioxide</th>\n",
       "      <th>total.sulfur.dioxide</th>\n",
       "      <th>density</th>\n",
       "      <th>pH</th>\n",
       "      <th>sulphates</th>\n",
       "      <th>alcohol</th>\n",
       "      <th>quality</th>\n",
       "      <th>id</th>\n",
       "    </tr>\n",
       "  </thead>\n",
       "  <tbody>\n",
       "    <tr>\n",
       "      <th>3913</th>\n",
       "      <td>6.5</td>\n",
       "      <td>0.28</td>\n",
       "      <td>0.38</td>\n",
       "      <td>7.80</td>\n",
       "      <td>0.031</td>\n",
       "      <td>54.0</td>\n",
       "      <td>216.0</td>\n",
       "      <td>0.99154</td>\n",
       "      <td>3.03</td>\n",
       "      <td>0.42</td>\n",
       "      <td>13.1</td>\n",
       "      <td>6</td>\n",
       "      <td>4894</td>\n",
       "    </tr>\n",
       "    <tr>\n",
       "      <th>3914</th>\n",
       "      <td>6.6</td>\n",
       "      <td>0.21</td>\n",
       "      <td>0.29</td>\n",
       "      <td>5.35</td>\n",
       "      <td>0.029</td>\n",
       "      <td>43.0</td>\n",
       "      <td>106.0</td>\n",
       "      <td>0.99112</td>\n",
       "      <td>2.93</td>\n",
       "      <td>0.43</td>\n",
       "      <td>11.5</td>\n",
       "      <td>7</td>\n",
       "      <td>4895</td>\n",
       "    </tr>\n",
       "    <tr>\n",
       "      <th>3915</th>\n",
       "      <td>8.6</td>\n",
       "      <td>0.18</td>\n",
       "      <td>0.28</td>\n",
       "      <td>0.80</td>\n",
       "      <td>0.032</td>\n",
       "      <td>25.0</td>\n",
       "      <td>78.0</td>\n",
       "      <td>0.99104</td>\n",
       "      <td>2.99</td>\n",
       "      <td>0.38</td>\n",
       "      <td>11.1</td>\n",
       "      <td>5</td>\n",
       "      <td>4896</td>\n",
       "    </tr>\n",
       "    <tr>\n",
       "      <th>3916</th>\n",
       "      <td>6.4</td>\n",
       "      <td>0.22</td>\n",
       "      <td>0.38</td>\n",
       "      <td>9.10</td>\n",
       "      <td>0.044</td>\n",
       "      <td>35.0</td>\n",
       "      <td>127.0</td>\n",
       "      <td>0.99326</td>\n",
       "      <td>2.97</td>\n",
       "      <td>0.30</td>\n",
       "      <td>11.0</td>\n",
       "      <td>7</td>\n",
       "      <td>4897</td>\n",
       "    </tr>\n",
       "    <tr>\n",
       "      <th>3917</th>\n",
       "      <td>7.2</td>\n",
       "      <td>0.46</td>\n",
       "      <td>0.65</td>\n",
       "      <td>10.40</td>\n",
       "      <td>0.050</td>\n",
       "      <td>76.0</td>\n",
       "      <td>192.0</td>\n",
       "      <td>0.99760</td>\n",
       "      <td>3.16</td>\n",
       "      <td>0.42</td>\n",
       "      <td>8.7</td>\n",
       "      <td>5</td>\n",
       "      <td>4898</td>\n",
       "    </tr>\n",
       "  </tbody>\n",
       "</table>\n",
       "</div>"
      ],
      "text/plain": [
       "      fixed.acidity  volatile.acidity  citric.acid  residual.sugar  chlorides  \\\n",
       "3913            6.5              0.28         0.38            7.80      0.031   \n",
       "3914            6.6              0.21         0.29            5.35      0.029   \n",
       "3915            8.6              0.18         0.28            0.80      0.032   \n",
       "3916            6.4              0.22         0.38            9.10      0.044   \n",
       "3917            7.2              0.46         0.65           10.40      0.050   \n",
       "\n",
       "      free.sulfur.dioxide  total.sulfur.dioxide  density    pH  sulphates  \\\n",
       "3913                 54.0                 216.0  0.99154  3.03       0.42   \n",
       "3914                 43.0                 106.0  0.99112  2.93       0.43   \n",
       "3915                 25.0                  78.0  0.99104  2.99       0.38   \n",
       "3916                 35.0                 127.0  0.99326  2.97       0.30   \n",
       "3917                 76.0                 192.0  0.99760  3.16       0.42   \n",
       "\n",
       "      alcohol  quality    id  \n",
       "3913     13.1        6  4894  \n",
       "3914     11.5        7  4895  \n",
       "3915     11.1        5  4896  \n",
       "3916     11.0        7  4897  \n",
       "3917      8.7        5  4898  "
      ]
     },
     "execution_count": 17,
     "metadata": {},
     "output_type": "execute_result"
    }
   ],
   "source": [
    "wine = pd.read_csv('winequality-data.csv')\n",
    "wine.tail()"
   ]
  },
  {
   "cell_type": "code",
   "execution_count": 18,
   "metadata": {},
   "outputs": [
    {
     "data": {
      "text/html": [
       "<div>\n",
       "<style scoped>\n",
       "    .dataframe tbody tr th:only-of-type {\n",
       "        vertical-align: middle;\n",
       "    }\n",
       "\n",
       "    .dataframe tbody tr th {\n",
       "        vertical-align: top;\n",
       "    }\n",
       "\n",
       "    .dataframe thead th {\n",
       "        text-align: right;\n",
       "    }\n",
       "</style>\n",
       "<table border=\"1\" class=\"dataframe\">\n",
       "  <thead>\n",
       "    <tr style=\"text-align: right;\">\n",
       "      <th></th>\n",
       "      <th>fixed.acidity</th>\n",
       "      <th>volatile.acidity</th>\n",
       "      <th>citric.acid</th>\n",
       "      <th>residual.sugar</th>\n",
       "      <th>chlorides</th>\n",
       "      <th>free.sulfur.dioxide</th>\n",
       "      <th>total.sulfur.dioxide</th>\n",
       "      <th>density</th>\n",
       "      <th>pH</th>\n",
       "      <th>sulphates</th>\n",
       "      <th>alcohol</th>\n",
       "      <th>quality</th>\n",
       "      <th>id</th>\n",
       "    </tr>\n",
       "  </thead>\n",
       "  <tbody>\n",
       "    <tr>\n",
       "      <th>count</th>\n",
       "      <td>3918.000000</td>\n",
       "      <td>3918.000000</td>\n",
       "      <td>3918.000000</td>\n",
       "      <td>3918.000000</td>\n",
       "      <td>3918.000000</td>\n",
       "      <td>3918.000000</td>\n",
       "      <td>3918.000000</td>\n",
       "      <td>3918.000000</td>\n",
       "      <td>3918.000000</td>\n",
       "      <td>3918.000000</td>\n",
       "      <td>3918.000000</td>\n",
       "      <td>3918.000000</td>\n",
       "      <td>3918.000000</td>\n",
       "    </tr>\n",
       "    <tr>\n",
       "      <th>mean</th>\n",
       "      <td>6.854620</td>\n",
       "      <td>0.278027</td>\n",
       "      <td>0.333201</td>\n",
       "      <td>6.405819</td>\n",
       "      <td>0.045566</td>\n",
       "      <td>35.326187</td>\n",
       "      <td>138.395227</td>\n",
       "      <td>0.994026</td>\n",
       "      <td>3.187989</td>\n",
       "      <td>0.489704</td>\n",
       "      <td>10.518765</td>\n",
       "      <td>5.877489</td>\n",
       "      <td>2939.500000</td>\n",
       "    </tr>\n",
       "    <tr>\n",
       "      <th>std</th>\n",
       "      <td>0.841879</td>\n",
       "      <td>0.100459</td>\n",
       "      <td>0.121375</td>\n",
       "      <td>5.107972</td>\n",
       "      <td>0.021138</td>\n",
       "      <td>17.158043</td>\n",
       "      <td>42.996820</td>\n",
       "      <td>0.003025</td>\n",
       "      <td>0.150022</td>\n",
       "      <td>0.114186</td>\n",
       "      <td>1.237195</td>\n",
       "      <td>0.890364</td>\n",
       "      <td>1131.173506</td>\n",
       "    </tr>\n",
       "    <tr>\n",
       "      <th>min</th>\n",
       "      <td>3.800000</td>\n",
       "      <td>0.080000</td>\n",
       "      <td>0.000000</td>\n",
       "      <td>0.600000</td>\n",
       "      <td>0.009000</td>\n",
       "      <td>3.000000</td>\n",
       "      <td>9.000000</td>\n",
       "      <td>0.987110</td>\n",
       "      <td>2.740000</td>\n",
       "      <td>0.220000</td>\n",
       "      <td>8.000000</td>\n",
       "      <td>3.000000</td>\n",
       "      <td>981.000000</td>\n",
       "    </tr>\n",
       "    <tr>\n",
       "      <th>25%</th>\n",
       "      <td>6.300000</td>\n",
       "      <td>0.210000</td>\n",
       "      <td>0.270000</td>\n",
       "      <td>1.700000</td>\n",
       "      <td>0.036000</td>\n",
       "      <td>23.000000</td>\n",
       "      <td>107.250000</td>\n",
       "      <td>0.991700</td>\n",
       "      <td>3.090000</td>\n",
       "      <td>0.410000</td>\n",
       "      <td>9.500000</td>\n",
       "      <td>5.000000</td>\n",
       "      <td>1960.250000</td>\n",
       "    </tr>\n",
       "    <tr>\n",
       "      <th>50%</th>\n",
       "      <td>6.800000</td>\n",
       "      <td>0.260000</td>\n",
       "      <td>0.310000</td>\n",
       "      <td>5.200000</td>\n",
       "      <td>0.043000</td>\n",
       "      <td>34.000000</td>\n",
       "      <td>134.000000</td>\n",
       "      <td>0.993730</td>\n",
       "      <td>3.180000</td>\n",
       "      <td>0.470000</td>\n",
       "      <td>10.400000</td>\n",
       "      <td>6.000000</td>\n",
       "      <td>2939.500000</td>\n",
       "    </tr>\n",
       "    <tr>\n",
       "      <th>75%</th>\n",
       "      <td>7.300000</td>\n",
       "      <td>0.320000</td>\n",
       "      <td>0.380000</td>\n",
       "      <td>9.900000</td>\n",
       "      <td>0.050000</td>\n",
       "      <td>46.000000</td>\n",
       "      <td>168.000000</td>\n",
       "      <td>0.996160</td>\n",
       "      <td>3.280000</td>\n",
       "      <td>0.550000</td>\n",
       "      <td>11.400000</td>\n",
       "      <td>6.000000</td>\n",
       "      <td>3918.750000</td>\n",
       "    </tr>\n",
       "    <tr>\n",
       "      <th>max</th>\n",
       "      <td>14.200000</td>\n",
       "      <td>1.100000</td>\n",
       "      <td>1.660000</td>\n",
       "      <td>65.800000</td>\n",
       "      <td>0.346000</td>\n",
       "      <td>289.000000</td>\n",
       "      <td>440.000000</td>\n",
       "      <td>1.038980</td>\n",
       "      <td>3.800000</td>\n",
       "      <td>1.080000</td>\n",
       "      <td>14.200000</td>\n",
       "      <td>9.000000</td>\n",
       "      <td>4898.000000</td>\n",
       "    </tr>\n",
       "  </tbody>\n",
       "</table>\n",
       "</div>"
      ],
      "text/plain": [
       "       fixed.acidity  volatile.acidity  citric.acid  residual.sugar  \\\n",
       "count    3918.000000       3918.000000  3918.000000     3918.000000   \n",
       "mean        6.854620          0.278027     0.333201        6.405819   \n",
       "std         0.841879          0.100459     0.121375        5.107972   \n",
       "min         3.800000          0.080000     0.000000        0.600000   \n",
       "25%         6.300000          0.210000     0.270000        1.700000   \n",
       "50%         6.800000          0.260000     0.310000        5.200000   \n",
       "75%         7.300000          0.320000     0.380000        9.900000   \n",
       "max        14.200000          1.100000     1.660000       65.800000   \n",
       "\n",
       "         chlorides  free.sulfur.dioxide  total.sulfur.dioxide      density  \\\n",
       "count  3918.000000          3918.000000           3918.000000  3918.000000   \n",
       "mean      0.045566            35.326187            138.395227     0.994026   \n",
       "std       0.021138            17.158043             42.996820     0.003025   \n",
       "min       0.009000             3.000000              9.000000     0.987110   \n",
       "25%       0.036000            23.000000            107.250000     0.991700   \n",
       "50%       0.043000            34.000000            134.000000     0.993730   \n",
       "75%       0.050000            46.000000            168.000000     0.996160   \n",
       "max       0.346000           289.000000            440.000000     1.038980   \n",
       "\n",
       "                pH    sulphates      alcohol      quality           id  \n",
       "count  3918.000000  3918.000000  3918.000000  3918.000000  3918.000000  \n",
       "mean      3.187989     0.489704    10.518765     5.877489  2939.500000  \n",
       "std       0.150022     0.114186     1.237195     0.890364  1131.173506  \n",
       "min       2.740000     0.220000     8.000000     3.000000   981.000000  \n",
       "25%       3.090000     0.410000     9.500000     5.000000  1960.250000  \n",
       "50%       3.180000     0.470000    10.400000     6.000000  2939.500000  \n",
       "75%       3.280000     0.550000    11.400000     6.000000  3918.750000  \n",
       "max       3.800000     1.080000    14.200000     9.000000  4898.000000  "
      ]
     },
     "execution_count": 18,
     "metadata": {},
     "output_type": "execute_result"
    }
   ],
   "source": [
    "wine.describe()"
   ]
  },
  {
   "cell_type": "code",
   "execution_count": 4,
   "metadata": {},
   "outputs": [
    {
     "data": {
      "text/plain": [
       "fixed.acidity           float64\n",
       "volatile.acidity        float64\n",
       "citric.acid             float64\n",
       "residual.sugar          float64\n",
       "chlorides               float64\n",
       "free.sulfur.dioxide     float64\n",
       "total.sulfur.dioxide    float64\n",
       "density                 float64\n",
       "pH                      float64\n",
       "sulphates               float64\n",
       "alcohol                 float64\n",
       "quality                   int64\n",
       "id                        int64\n",
       "dtype: object"
      ]
     },
     "execution_count": 4,
     "metadata": {},
     "output_type": "execute_result"
    }
   ],
   "source": [
    "wine.dtypes"
   ]
  },
  {
   "cell_type": "code",
   "execution_count": 5,
   "metadata": {},
   "outputs": [
    {
     "data": {
      "text/plain": [
       "array(['fixed.acidity', 'volatile.acidity', 'citric.acid',\n",
       "       'residual.sugar', 'chlorides', 'free.sulfur.dioxide',\n",
       "       'total.sulfur.dioxide', 'density', 'pH', 'sulphates', 'alcohol',\n",
       "       'quality', 'id'], dtype=object)"
      ]
     },
     "execution_count": 5,
     "metadata": {},
     "output_type": "execute_result"
    }
   ],
   "source": [
    "wine.columns.values"
   ]
  },
  {
   "cell_type": "code",
   "execution_count": 6,
   "metadata": {},
   "outputs": [
    {
     "name": "stdout",
     "output_type": "stream",
     "text": [
      "<class 'pandas.core.frame.DataFrame'>\n",
      "RangeIndex: 3918 entries, 0 to 3917\n",
      "Data columns (total 13 columns):\n",
      "fixed.acidity           3918 non-null float64\n",
      "volatile.acidity        3918 non-null float64\n",
      "citric.acid             3918 non-null float64\n",
      "residual.sugar          3918 non-null float64\n",
      "chlorides               3918 non-null float64\n",
      "free.sulfur.dioxide     3918 non-null float64\n",
      "total.sulfur.dioxide    3918 non-null float64\n",
      "density                 3918 non-null float64\n",
      "pH                      3918 non-null float64\n",
      "sulphates               3918 non-null float64\n",
      "alcohol                 3918 non-null float64\n",
      "quality                 3918 non-null int64\n",
      "id                      3918 non-null int64\n",
      "dtypes: float64(11), int64(2)\n",
      "memory usage: 398.0 KB\n"
     ]
    }
   ],
   "source": [
    "wine.info()"
   ]
  },
  {
   "cell_type": "code",
   "execution_count": 7,
   "metadata": {},
   "outputs": [
    {
     "data": {
      "text/html": [
       "<div>\n",
       "<style scoped>\n",
       "    .dataframe tbody tr th:only-of-type {\n",
       "        vertical-align: middle;\n",
       "    }\n",
       "\n",
       "    .dataframe tbody tr th {\n",
       "        vertical-align: top;\n",
       "    }\n",
       "\n",
       "    .dataframe thead th {\n",
       "        text-align: right;\n",
       "    }\n",
       "</style>\n",
       "<table border=\"1\" class=\"dataframe\">\n",
       "  <thead>\n",
       "    <tr style=\"text-align: right;\">\n",
       "      <th></th>\n",
       "      <th>fixed.acidity</th>\n",
       "      <th>volatile.acidity</th>\n",
       "      <th>citric.acid</th>\n",
       "      <th>residual.sugar</th>\n",
       "      <th>chlorides</th>\n",
       "      <th>free.sulfur.dioxide</th>\n",
       "      <th>total.sulfur.dioxide</th>\n",
       "      <th>density</th>\n",
       "      <th>pH</th>\n",
       "      <th>sulphates</th>\n",
       "      <th>alcohol</th>\n",
       "      <th>quality</th>\n",
       "      <th>id</th>\n",
       "    </tr>\n",
       "  </thead>\n",
       "  <tbody>\n",
       "    <tr>\n",
       "      <th>0</th>\n",
       "      <td>False</td>\n",
       "      <td>False</td>\n",
       "      <td>False</td>\n",
       "      <td>False</td>\n",
       "      <td>False</td>\n",
       "      <td>False</td>\n",
       "      <td>False</td>\n",
       "      <td>False</td>\n",
       "      <td>False</td>\n",
       "      <td>False</td>\n",
       "      <td>False</td>\n",
       "      <td>False</td>\n",
       "      <td>False</td>\n",
       "    </tr>\n",
       "    <tr>\n",
       "      <th>1</th>\n",
       "      <td>False</td>\n",
       "      <td>False</td>\n",
       "      <td>False</td>\n",
       "      <td>False</td>\n",
       "      <td>False</td>\n",
       "      <td>False</td>\n",
       "      <td>False</td>\n",
       "      <td>False</td>\n",
       "      <td>False</td>\n",
       "      <td>False</td>\n",
       "      <td>False</td>\n",
       "      <td>False</td>\n",
       "      <td>False</td>\n",
       "    </tr>\n",
       "    <tr>\n",
       "      <th>2</th>\n",
       "      <td>False</td>\n",
       "      <td>False</td>\n",
       "      <td>False</td>\n",
       "      <td>False</td>\n",
       "      <td>False</td>\n",
       "      <td>False</td>\n",
       "      <td>False</td>\n",
       "      <td>False</td>\n",
       "      <td>False</td>\n",
       "      <td>False</td>\n",
       "      <td>False</td>\n",
       "      <td>False</td>\n",
       "      <td>False</td>\n",
       "    </tr>\n",
       "    <tr>\n",
       "      <th>3</th>\n",
       "      <td>False</td>\n",
       "      <td>False</td>\n",
       "      <td>False</td>\n",
       "      <td>False</td>\n",
       "      <td>False</td>\n",
       "      <td>False</td>\n",
       "      <td>False</td>\n",
       "      <td>False</td>\n",
       "      <td>False</td>\n",
       "      <td>False</td>\n",
       "      <td>False</td>\n",
       "      <td>False</td>\n",
       "      <td>False</td>\n",
       "    </tr>\n",
       "    <tr>\n",
       "      <th>4</th>\n",
       "      <td>False</td>\n",
       "      <td>False</td>\n",
       "      <td>False</td>\n",
       "      <td>False</td>\n",
       "      <td>False</td>\n",
       "      <td>False</td>\n",
       "      <td>False</td>\n",
       "      <td>False</td>\n",
       "      <td>False</td>\n",
       "      <td>False</td>\n",
       "      <td>False</td>\n",
       "      <td>False</td>\n",
       "      <td>False</td>\n",
       "    </tr>\n",
       "  </tbody>\n",
       "</table>\n",
       "</div>"
      ],
      "text/plain": [
       "   fixed.acidity  volatile.acidity  citric.acid  residual.sugar  chlorides  \\\n",
       "0          False             False        False           False      False   \n",
       "1          False             False        False           False      False   \n",
       "2          False             False        False           False      False   \n",
       "3          False             False        False           False      False   \n",
       "4          False             False        False           False      False   \n",
       "\n",
       "   free.sulfur.dioxide  total.sulfur.dioxide  density     pH  sulphates  \\\n",
       "0                False                 False    False  False      False   \n",
       "1                False                 False    False  False      False   \n",
       "2                False                 False    False  False      False   \n",
       "3                False                 False    False  False      False   \n",
       "4                False                 False    False  False      False   \n",
       "\n",
       "   alcohol  quality     id  \n",
       "0    False    False  False  \n",
       "1    False    False  False  \n",
       "2    False    False  False  \n",
       "3    False    False  False  \n",
       "4    False    False  False  "
      ]
     },
     "execution_count": 7,
     "metadata": {},
     "output_type": "execute_result"
    }
   ],
   "source": [
    "wine.isnull().head(5)"
   ]
  },
  {
   "cell_type": "code",
   "execution_count": 8,
   "metadata": {},
   "outputs": [
    {
     "data": {
      "text/plain": [
       "False"
      ]
     },
     "execution_count": 8,
     "metadata": {},
     "output_type": "execute_result"
    }
   ],
   "source": [
    "wine.isnull().values.any() # faster way"
   ]
  },
  {
   "cell_type": "code",
   "execution_count": 9,
   "metadata": {},
   "outputs": [
    {
     "data": {
      "text/plain": [
       "fixed.acidity           0\n",
       "volatile.acidity        0\n",
       "citric.acid             0\n",
       "residual.sugar          0\n",
       "chlorides               0\n",
       "free.sulfur.dioxide     0\n",
       "total.sulfur.dioxide    0\n",
       "density                 0\n",
       "pH                      0\n",
       "sulphates               0\n",
       "alcohol                 0\n",
       "quality                 0\n",
       "id                      0\n",
       "dtype: int64"
      ]
     },
     "execution_count": 9,
     "metadata": {},
     "output_type": "execute_result"
    }
   ],
   "source": [
    "wine.isnull().sum()"
   ]
  },
  {
   "cell_type": "code",
   "execution_count": 10,
   "metadata": {},
   "outputs": [
    {
     "data": {
      "text/plain": [
       "11"
      ]
     },
     "execution_count": 10,
     "metadata": {},
     "output_type": "execute_result"
    }
   ],
   "source": [
    "df= pd.DataFrame(np.random.randn(5,5,))\n",
    "df[df>0.3]=pd.np.nan\n",
    "df.isnull().sum().sum() # to get the total number of all missing values\n",
    "# how to deal with missing values? or delete or replace with the mean value"
   ]
  },
  {
   "cell_type": "code",
   "execution_count": 11,
   "metadata": {},
   "outputs": [
    {
     "data": {
      "text/plain": [
       "[bad, good, NaN]\n",
       "Categories (2, object): [bad < good]"
      ]
     },
     "execution_count": 11,
     "metadata": {},
     "output_type": "execute_result"
    }
   ],
   "source": [
    "#Preprocessing of the data\n",
    "bins = (2, 6, 8) # quaility is between 2 and 8 (actually 3-9). \n",
    "# just 2 bins of quality / good and bad/ exact index of 8 - 0 to 8\n",
    "# 6.5 - spread, we need a higher quality \n",
    "group_names= ['bad', 'good']\n",
    "wine['quality']=pd.cut(wine['quality'], bins=bins, labels=group_names)\n",
    "# cutting the quality and replacing it\n",
    "wine['quality'].unique()\n",
    "# why do I have this NaN ?"
   ]
  },
  {
   "cell_type": "code",
   "execution_count": 12,
   "metadata": {},
   "outputs": [],
   "source": [
    "label_quality = LabelEncoder()"
   ]
  },
  {
   "cell_type": "code",
   "execution_count": 19,
   "metadata": {},
   "outputs": [],
   "source": [
    "wine['quality']=label_quality.fit_transform(wine['quality']) "
   ]
  },
  {
   "cell_type": "code",
   "execution_count": null,
   "metadata": {},
   "outputs": [],
   "source": [
    "wine.head()"
   ]
  },
  {
   "cell_type": "code",
   "execution_count": null,
   "metadata": {},
   "outputs": [],
   "source": [
    "wine['quality'].value_counts()"
   ]
  },
  {
   "cell_type": "code",
   "execution_count": 20,
   "metadata": {},
   "outputs": [
    {
     "data": {
      "text/plain": [
       "<matplotlib.axes._subplots.AxesSubplot at 0x24a2e3be4a8>"
      ]
     },
     "execution_count": 20,
     "metadata": {},
     "output_type": "execute_result"
    },
    {
     "data": {
      "image/png": "[encoded data removed]",
      "text/plain": [
       "<Figure size 432x288 with 1 Axes>"
      ]
     },
     "metadata": {
      "needs_background": "light"
     },
     "output_type": "display_data"
    }
   ],
   "source": [
    "sns.countplot(wine['quality'])"
   ]
  },
  {
   "cell_type": "code",
   "execution_count": 39,
   "metadata": {},
   "outputs": [],
   "source": [
    "# separate the dataset as response variable and feature variables\n",
    "X = wine.drop('quality', axis=1)\n",
    "y= wine['quality']"
   ]
  },
  {
   "cell_type": "code",
   "execution_count": 22,
   "metadata": {},
   "outputs": [],
   "source": [
    "# train and test splitting data\n",
    "X_train, X_test, y_train, y_test=train_test_split(X, y, test_size=0.2, random_state=42)\n"
   ]
  },
  {
   "cell_type": "code",
   "execution_count": 23,
   "metadata": {},
   "outputs": [
    {
     "name": "stderr",
     "output_type": "stream",
     "text": [
      "C:\\Users\\katya\\Anaconda3\\lib\\site-packages\\sklearn\\preprocessing\\data.py:625: DataConversionWarning: Data with input dtype int64, float64 were all converted to float64 by StandardScaler.\n",
      "  return self.partial_fit(X, y)\n",
      "C:\\Users\\katya\\Anaconda3\\lib\\site-packages\\sklearn\\base.py:462: DataConversionWarning: Data with input dtype int64, float64 were all converted to float64 by StandardScaler.\n",
      "  return self.fit(X, **fit_params).transform(X)\n",
      "C:\\Users\\katya\\Anaconda3\\lib\\site-packages\\ipykernel_launcher.py:5: DataConversionWarning: Data with input dtype int64, float64 were all converted to float64 by StandardScaler.\n",
      "  \"\"\"\n"
     ]
    }
   ],
   "source": [
    "# Applying Standard scaling to get optimized result\n",
    "\n",
    "sc=StandardScaler()\n",
    "X_train=sc.fit_transform(X_train)\n",
    "X_test=sc.transform(X_test)"
   ]
  },
  {
   "cell_type": "code",
   "execution_count": null,
   "metadata": {},
   "outputs": [],
   "source": [
    "X_train # variables now are much more uniform and they were scaled to the same scale"
   ]
  },
  {
   "cell_type": "code",
   "execution_count": null,
   "metadata": {},
   "outputs": [],
   "source": [
    "X_test"
   ]
  },
  {
   "cell_type": "markdown",
   "metadata": {},
   "source": [
    "### Random Forest Classifier "
   ]
  },
  {
   "cell_type": "code",
   "execution_count": 27,
   "metadata": {},
   "outputs": [],
   "source": [
    "# cause it has the leasr amount of moving parts\n",
    "rfc=RandomForestClassifier(n_estimators=200) # how many models are in, how many forests :)\n",
    "#used for medium size dataset \n",
    "rfc.fit(X_train, y_train)\n",
    "#our features and quality\n",
    "pred_rfc=rfc.predict(X_test)"
   ]
  },
  {
   "cell_type": "code",
   "execution_count": 28,
   "metadata": {},
   "outputs": [
    {
     "data": {
      "text/plain": [
       "array([3, 2, 4, 2, 3, 3, 4, 3, 3, 3, 3, 2, 3, 3, 3, 2, 2, 3, 2, 3],\n",
       "      dtype=int64)"
      ]
     },
     "execution_count": 28,
     "metadata": {},
     "output_type": "execute_result"
    }
   ],
   "source": [
    "pred_rfc[:20]"
   ]
  },
  {
   "cell_type": "code",
   "execution_count": 30,
   "metadata": {},
   "outputs": [
    {
     "name": "stdout",
     "output_type": "stream",
     "text": [
      "              precision    recall  f1-score   support\n",
      "\n",
      "           0       0.00      0.00      0.00         1\n",
      "           1       0.75      0.20      0.32        30\n",
      "           2       0.69      0.63      0.66       227\n",
      "           3       0.61      0.79      0.69       340\n",
      "           4       0.68      0.52      0.59       157\n",
      "           5       1.00      0.33      0.50        27\n",
      "           6       0.00      0.00      0.00         2\n",
      "\n",
      "   micro avg       0.65      0.65      0.65       784\n",
      "   macro avg       0.53      0.35      0.39       784\n",
      "weighted avg       0.67      0.65      0.64       784\n",
      "\n",
      "[[  0   0   1   0   0   0   0]\n",
      " [  0   6  15   8   1   0   0]\n",
      " [  0   2 143  79   3   0   0]\n",
      " [  0   0  43 270  27   0   0]\n",
      " [  0   0   4  71  82   0   0]\n",
      " [  0   0   0  13   5   9   0]\n",
      " [  0   0   0   0   2   0   0]]\n"
     ]
    },
    {
     "name": "stderr",
     "output_type": "stream",
     "text": [
      "C:\\Users\\katya\\Anaconda3\\lib\\site-packages\\sklearn\\metrics\\classification.py:1143: UndefinedMetricWarning: Precision and F-score are ill-defined and being set to 0.0 in labels with no predicted samples.\n",
      "  'precision', 'predicted', average, warn_for)\n",
      "C:\\Users\\katya\\Anaconda3\\lib\\site-packages\\sklearn\\metrics\\classification.py:1143: UndefinedMetricWarning: Precision and F-score are ill-defined and being set to 0.0 in labels with no predicted samples.\n",
      "  'precision', 'predicted', average, warn_for)\n",
      "C:\\Users\\katya\\Anaconda3\\lib\\site-packages\\sklearn\\metrics\\classification.py:1143: UndefinedMetricWarning: Precision and F-score are ill-defined and being set to 0.0 in labels with no predicted samples.\n",
      "  'precision', 'predicted', average, warn_for)\n"
     ]
    }
   ],
   "source": [
    "print(classification_report(y_test, pred_rfc))\n",
    "print(confusion_matrix(y_test, pred_rfc))"
   ]
  },
  {
   "cell_type": "markdown",
   "metadata": {},
   "source": [
    "### SVM Classifier"
   ]
  },
  {
   "cell_type": "code",
   "execution_count": 31,
   "metadata": {},
   "outputs": [],
   "source": [
    "# works good with smaller numbers \n",
    "# fastest and easiest \n",
    "clf=svm.SVC()\n",
    "clf.fit(X_train, y_train)\n",
    "pred_clf=clf.predict(X_test)"
   ]
  },
  {
   "cell_type": "code",
   "execution_count": 33,
   "metadata": {},
   "outputs": [
    {
     "name": "stdout",
     "output_type": "stream",
     "text": [
      "              precision    recall  f1-score   support\n",
      "\n",
      "           0       0.00      0.00      0.00         1\n",
      "           1       1.00      0.10      0.18        30\n",
      "           2       0.64      0.56      0.59       227\n",
      "           3       0.53      0.80      0.64       340\n",
      "           4       0.65      0.30      0.41       157\n",
      "           5       0.00      0.00      0.00        27\n",
      "           6       0.00      0.00      0.00         2\n",
      "\n",
      "   micro avg       0.57      0.57      0.57       784\n",
      "   macro avg       0.40      0.25      0.26       784\n",
      "weighted avg       0.58      0.57      0.54       784\n",
      "\n",
      "[[  0   0   1   0   0   0   0]\n",
      " [  0   3  16  11   0   0   0]\n",
      " [  0   0 127  99   1   0   0]\n",
      " [  0   0  51 271  18   0   0]\n",
      " [  0   0   4 106  47   0   0]\n",
      " [  0   0   1  22   4   0   0]\n",
      " [  0   0   0   0   2   0   0]]\n"
     ]
    },
    {
     "name": "stderr",
     "output_type": "stream",
     "text": [
      "C:\\Users\\katya\\Anaconda3\\lib\\site-packages\\sklearn\\metrics\\classification.py:1143: UndefinedMetricWarning: Precision and F-score are ill-defined and being set to 0.0 in labels with no predicted samples.\n",
      "  'precision', 'predicted', average, warn_for)\n",
      "C:\\Users\\katya\\Anaconda3\\lib\\site-packages\\sklearn\\metrics\\classification.py:1143: UndefinedMetricWarning: Precision and F-score are ill-defined and being set to 0.0 in labels with no predicted samples.\n",
      "  'precision', 'predicted', average, warn_for)\n",
      "C:\\Users\\katya\\Anaconda3\\lib\\site-packages\\sklearn\\metrics\\classification.py:1143: UndefinedMetricWarning: Precision and F-score are ill-defined and being set to 0.0 in labels with no predicted samples.\n",
      "  'precision', 'predicted', average, warn_for)\n"
     ]
    }
   ],
   "source": [
    "print(classification_report(y_test, pred_clf))\n",
    "print(confusion_matrix(y_test, pred_clf))"
   ]
  },
  {
   "cell_type": "markdown",
   "metadata": {},
   "source": [
    "### Neural Network"
   ]
  },
  {
   "cell_type": "code",
   "execution_count": null,
   "metadata": {},
   "outputs": [],
   "source": [
    "# big amount of data\n",
    "# works good with text data analysis  esp. time sensitive \n",
    "# good for predicting stock market due to a lange amount of data \n",
    "#image processing"
   ]
  },
  {
   "cell_type": "code",
   "execution_count": 36,
   "metadata": {},
   "outputs": [
    {
     "name": "stderr",
     "output_type": "stream",
     "text": [
      "C:\\Users\\katya\\Anaconda3\\lib\\site-packages\\sklearn\\neural_network\\multilayer_perceptron.py:562: ConvergenceWarning: Stochastic Optimizer: Maximum iterations (500) reached and the optimization hasn't converged yet.\n",
      "  % self.max_iter, ConvergenceWarning)\n"
     ]
    }
   ],
   "source": [
    "mlpc=MLPClassifier(hidden_layer_sizes=(11,11,11), max_iter=500)\n",
    "# hidden_layer_sizes=(11,11,11) 3 layers of 11 each. we have 11 features\n",
    "#  the more hidden layers you have the more resources you use \n",
    "#max_iter by default is 200, but because we have 3 layers better but higher\n",
    "# means that it goes 500 times throug the data to program those layer and carefully adjust them \n",
    "mlpc.fit(X_train, y_train)\n",
    "pred_mlpc=mlpc.predict(X_test)"
   ]
  },
  {
   "cell_type": "code",
   "execution_count": 37,
   "metadata": {},
   "outputs": [
    {
     "name": "stdout",
     "output_type": "stream",
     "text": [
      "              precision    recall  f1-score   support\n",
      "\n",
      "           0       0.00      0.00      0.00         1\n",
      "           1       0.40      0.20      0.27        30\n",
      "           2       0.62      0.59      0.61       227\n",
      "           3       0.53      0.70      0.60       340\n",
      "           4       0.48      0.30      0.37       157\n",
      "           5       0.33      0.04      0.07        27\n",
      "           6       0.00      0.00      0.00         2\n",
      "\n",
      "   micro avg       0.55      0.55      0.55       784\n",
      "   macro avg       0.34      0.26      0.27       784\n",
      "weighted avg       0.53      0.55      0.52       784\n",
      "\n",
      "[[  0   0   1   0   0   0   0]\n",
      " [  0   6  14  10   0   0   0]\n",
      " [  0   5 135  80   7   0   0]\n",
      " [  0   4  63 239  33   1   0]\n",
      " [  0   0   4 105  47   1   0]\n",
      " [  0   0   1  17   8   1   0]\n",
      " [  0   0   0   0   2   0   0]]\n"
     ]
    },
    {
     "name": "stderr",
     "output_type": "stream",
     "text": [
      "C:\\Users\\katya\\Anaconda3\\lib\\site-packages\\sklearn\\metrics\\classification.py:1143: UndefinedMetricWarning: Precision and F-score are ill-defined and being set to 0.0 in labels with no predicted samples.\n",
      "  'precision', 'predicted', average, warn_for)\n",
      "C:\\Users\\katya\\Anaconda3\\lib\\site-packages\\sklearn\\metrics\\classification.py:1143: UndefinedMetricWarning: Precision and F-score are ill-defined and being set to 0.0 in labels with no predicted samples.\n",
      "  'precision', 'predicted', average, warn_for)\n",
      "C:\\Users\\katya\\Anaconda3\\lib\\site-packages\\sklearn\\metrics\\classification.py:1143: UndefinedMetricWarning: Precision and F-score are ill-defined and being set to 0.0 in labels with no predicted samples.\n",
      "  'precision', 'predicted', average, warn_for)\n"
     ]
    }
   ],
   "source": [
    "print(classification_report(y_test, pred_mlpc))\n",
    "print(confusion_matrix(y_test, pred_mlpc))"
   ]
  }
 ],
 "metadata": {
  "kernelspec": {
   "display_name": "Python 3",
   "language": "python",
   "name": "python3"
  },
  "language_info": {
   "codemirror_mode": {
    "name": "ipython",
    "version": 3
   },
   "file_extension": ".py",
   "mimetype": "text/x-python",
   "name": "python",
   "nbconvert_exporter": "python",
   "pygments_lexer": "ipython3",
   "version": "3.7.1"
  }
 },
 "nbformat": 4,
 "nbformat_minor": 2
}
